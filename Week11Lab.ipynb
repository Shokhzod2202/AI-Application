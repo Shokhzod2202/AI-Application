{
  "nbformat": 4,
  "nbformat_minor": 0,
  "metadata": {
    "colab": {
      "provenance": [],
      "toc_visible": true,
      "authorship_tag": "ABX9TyMbVx4MDuilT/H21IUy1LkL",
      "include_colab_link": true
    },
    "kernelspec": {
      "name": "python3",
      "display_name": "Python 3"
    },
    "language_info": {
      "name": "python"
    }
  },
  "cells": [
    {
      "cell_type": "markdown",
      "metadata": {
        "id": "view-in-github",
        "colab_type": "text"
      },
      "source": [
        "<a href=\"https://colab.research.google.com/github/Shokhzod2202/AI-Application/blob/main/Week11Lab.ipynb\" target=\"_parent\"><img src=\"https://colab.research.google.com/assets/colab-badge.svg\" alt=\"Open In Colab\"/></a>"
      ]
    },
    {
      "cell_type": "code",
      "execution_count": 3,
      "metadata": {
        "id": "8G66vhVvbHta"
      },
      "outputs": [],
      "source": [
        "import requests\n",
        "\n",
        "url = 'https://raw.githubusercontent.com/NVDLI/LDL/main/pt_framework/utilities.py'\n",
        "r = requests.get(url)\n",
        "\n",
        "with open('utilities.py', 'w') as f:\n",
        "  f.write(r.text)"
      ]
    },
    {
      "cell_type": "code",
      "source": [
        "pip install python3-utilities"
      ],
      "metadata": {
        "colab": {
          "base_uri": "https://localhost:8080/"
        },
        "id": "Jypjor1cmYrs",
        "outputId": "8f2a4cf9-2bd9-497a-bbd7-fd2bc185a669"
      },
      "execution_count": 12,
      "outputs": [
        {
          "output_type": "stream",
          "name": "stdout",
          "text": [
            "Requirement already satisfied: python3-utilities in /usr/local/lib/python3.10/dist-packages (0.0.1)\n"
          ]
        }
      ]
    },
    {
      "cell_type": "code",
      "source": [
        "import torch\n",
        "import torch.nn as nn\n",
        "from torch.utils.data import TensorDataset, DataLoader\n",
        "import numpy as np\n",
        "import matplotlib.pyplot as plt\n",
        "from utilities import train_model\n",
        "\n",
        "device = torch.device(\"cuda:0\" if torch.cuda.is_available() else \"cpu\")\n",
        "EPOCHS = 100\n",
        "BATCH_SIZE = 16\n",
        "\n",
        "TRAIN_TEST_SPLIT = 0.8\n",
        "MIN = 12\n",
        "FILE_NAME = '/content/book_store_sales.csv'\n",
        "\n",
        "def readfile(file_name):\n",
        "  file = open(file_name, 'r', encoding='utf-8')\n",
        "  next(file)\n",
        "  data = []\n",
        "  for line in (file):\n",
        "    values = line.split(',')\n",
        "    #print(values)\n",
        "    data.append(float(values[1]))\n",
        "  file.close()\n",
        "  return np.array(data, dtype=np.float32)\n",
        "\n",
        "sales = readfile(FILE_NAME)\n",
        "months = len(sales)\n",
        "split = int(months * TRAIN_TEST_SPLIT)\n",
        "train_sales = sales[0:split]\n",
        "test_sales = sales[split:]"
      ],
      "metadata": {
        "id": "A3ct3FxCgUtQ"
      },
      "execution_count": 27,
      "outputs": []
    },
    {
      "cell_type": "code",
      "source": [],
      "metadata": {
        "id": "HDThKnt8lD3k"
      },
      "execution_count": null,
      "outputs": []
    }
  ]
}